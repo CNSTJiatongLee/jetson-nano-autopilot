{
 "cells": [
  {
   "cell_type": "markdown",
   "metadata": {},
   "source": [
    "# **道路跟随 - 演示**\n",
    "\n",
    "在本笔记本中，我们将使用训练好的模型进行预测并控制 **Jetracer** 运动"
   ]
  },
  {
   "cell_type": "code",
   "execution_count": 1,
   "metadata": {},
   "outputs": [],
   "source": [
    "import sys\n",
    "sys.path.append('../')\n",
    "from IPython.display import display\n",
    "import ipywidgets\n",
    "import traitlets\n",
    "import time\n",
    "from camera import Camera, bgr8_to_jpeg"
   ]
  },
  {
   "cell_type": "markdown",
   "metadata": {},
   "source": [
    "## **1. 创建 JetRacer 实例**"
   ]
  },
  {
   "cell_type": "code",
   "execution_count": 2,
   "metadata": {},
   "outputs": [],
   "source": [
    "from jetracer.nvidia_racecar import NvidiaRacecar\n",
    "\n",
    "car = NvidiaRacecar()"
   ]
  },
  {
   "cell_type": "code",
   "execution_count": 3,
   "metadata": {},
   "outputs": [],
   "source": [
    "'''放开阀门限制，完全由交互控件控制速度'''\n",
    "car.throttle_gain = 1\n",
    "car.steering_gain = -1\n",
    "'''设置前轮默认偏移量'''\n",
    "car.steering_offset= -0.037 "
   ]
  },
  {
   "cell_type": "markdown",
   "metadata": {},
   "source": [
    "#### 1.1 **创建交互滑块来控制 Jetracer**\n",
    "\n",
    "``throttle_slider``  手动设置油门大小\n",
    "\n",
    "``steering_slider`` 手动设置转角大小\n",
    "\n"
   ]
  },
  {
   "cell_type": "code",
   "execution_count": 4,
   "metadata": {},
   "outputs": [],
   "source": [
    "throttle_switch = ipywidgets.FloatSlider(min=0, max=1, step=1, value=0) # 油门\n",
    "steering_slider = ipywidgets.FloatSlider(min=-0.8, max=0.8, step=0.1, value=0) # 转角\n",
    "car_safe_button = ipywidgets.Button(description='SAFE',button_style='warning', layout=ipywidgets.Layout(width='300px', height='28px'))\n",
    "\n",
    "def car_safe(change):\n",
    "    car.throttle = 0\n",
    "    car.steering = 0\n",
    "    throttle_switch.value = 0\n",
    "    steering_slider.value = 0\n",
    "\n",
    "jetracer_control_widgets = ipywidgets.VBox([\n",
    "    ipywidgets.Label('-'*24+' JetRacer 控制 '+'-'*40),\n",
    "    ipywidgets.HBox([\n",
    "        ipywidgets.VBox([\n",
    "            ipywidgets.Label('停止/启动'),ipywidgets.Label('转角')\n",
    "        ]),\n",
    "        ipywidgets.VBox([\n",
    "            throttle_switch, steering_slider\n",
    "        ])\n",
    "    ]),\n",
    "    car_safe_button\n",
    "])\n",
    "\n",
    "#display(jetracer_control_widgets)"
   ]
  },
  {
   "cell_type": "markdown",
   "metadata": {},
   "source": [
    "#### 1.2 **控件与JetRacer 实例关联**"
   ]
  },
  {
   "cell_type": "code",
   "execution_count": 5,
   "metadata": {},
   "outputs": [],
   "source": [
    "#traitlets.dlink((throttle_slider, 'value'), (car, 'throttle'), transform=lambda x: x)\n",
    "traitlets.dlink((steering_slider, 'value'), (car, 'steering'), transform=lambda x: x)\n",
    "car_safe_button.on_click(car_safe)"
   ]
  },
  {
   "cell_type": "markdown",
   "metadata": {},
   "source": [
    "## **2. 创建 Camera 实例**\n",
    "设置摄像头获取的图像为较大的图像，之后再resize至 **resnet18** 支持的输入 **224 X 224**\n",
    "\n",
    "摄像头获取的图像大小应适用于相机校准的输入（默认为608*342）"
   ]
  },
  {
   "cell_type": "code",
   "execution_count": 6,
   "metadata": {},
   "outputs": [],
   "source": [
    "image_width = 448#224\n",
    "image_height = 448#224\n",
    "display_width = 224\n",
    "display_height = 224\n",
    "camera_fps = 30"
   ]
  },
  {
   "cell_type": "code",
   "execution_count": 7,
   "metadata": {},
   "outputs": [],
   "source": [
    "camera = Camera(width=image_width, height=image_height, fps=camera_fps)"
   ]
  },
  {
   "cell_type": "markdown",
   "metadata": {},
   "source": [
    "## **3. 加载模型**\n",
    "\n",
    "``target_number``  设置输出目标数\n",
    "\n",
    "> 确保已经完成训练并生成 ``best_steering_model_xy.pth``"
   ]
  },
  {
   "cell_type": "code",
   "execution_count": 8,
   "metadata": {},
   "outputs": [],
   "source": [
    "model_path = 'model/best_follow_xy1_double_target_50epochs_trt.pth'\n",
    "target_number = 2"
   ]
  },
  {
   "cell_type": "markdown",
   "metadata": {},
   "source": [
    "## 3.1 **加载一般模型** (二选一)"
   ]
  },
  {
   "cell_type": "code",
   "execution_count": null,
   "metadata": {},
   "outputs": [],
   "source": [
    "import torchvision\n",
    "import torch\n",
    "\n",
    "# 定义模型结构\n",
    "model = torchvision.models.resnet18(pretrained=False)\n",
    "model.fc = torch.nn.Linear(512, 2*target_number)\n",
    "\n",
    "# 加载参数\n",
    "model.load_state_dict(torch.load(model_path))\n",
    "\n",
    "# 加载到GPU\n",
    "device = torch.device('cuda')\n",
    "model = model.to(device)\n",
    "model = model.eval().half()"
   ]
  },
  {
   "cell_type": "markdown",
   "metadata": {},
   "source": [
    "## 3.2 **加载 TensonRT 模型** (二选一)"
   ]
  },
  {
   "cell_type": "code",
   "execution_count": 10,
   "metadata": {},
   "outputs": [],
   "source": [
    "import torch\n",
    "from torch2trt import TRTModule\n",
    "\n",
    "model = TRTModule()\n",
    "model.load_state_dict(torch.load(model_path))\n",
    "device = torch.device('cuda')"
   ]
  },
  {
   "cell_type": "markdown",
   "metadata": {},
   "source": [
    "## **4. 创建预处理功能**"
   ]
  },
  {
   "cell_type": "code",
   "execution_count": 11,
   "metadata": {},
   "outputs": [],
   "source": [
    "import torchvision.transforms as transforms\n",
    "import torch.nn.functional as F\n",
    "import cv2\n",
    "import PIL.Image\n",
    "import numpy as np"
   ]
  },
  {
   "cell_type": "markdown",
   "metadata": {},
   "source": [
    "#### **将从相机获取的数据变换为模型支持的格式。**\n",
    "\n",
    "1. 从HWC布局转换到CHW布局\n",
    "2. 使用与训练时一样的参数归一化， 从**[0， 255]** 重映射到 **[0，1]**\n",
    "3. 将数据从**CPU**传输到**GPU**\n",
    "4. 添加 batch 尺寸"
   ]
  },
  {
   "cell_type": "code",
   "execution_count": 13,
   "metadata": {},
   "outputs": [],
   "source": [
    "mean = torch.Tensor([0.485, 0.456, 0.406]).cuda().half()\n",
    "std = torch.Tensor([0.229, 0.224, 0.225]).cuda().half()\n",
    "\n",
    "def preprocess(image):\n",
    "    image = PIL.Image.fromarray(image)\n",
    "    #image = transforms.functional.resize(image,(224, 224))\n",
    "    image = transforms.functional.to_tensor(image).to(device).half()\n",
    "    image.sub_(mean[:, None, None]).div_(std[:, None, None])\n",
    "    return image[None, ...]"
   ]
  },
  {
   "cell_type": "markdown",
   "metadata": {},
   "source": [
    "## **5. 设置变道功能函数**\n",
    "#### **5.1 定义变道功能按钮**"
   ]
  },
  {
   "cell_type": "code",
   "execution_count": 14,
   "metadata": {},
   "outputs": [],
   "source": [
    "lane_left_widgets = ipywidgets.Button(description='LEFT',button_style='warning')\n",
    "lane_right_widgets = ipywidgets.Button(description='RIGHT',button_style='success')\n",
    "\n",
    "change_lane_widgets = ipywidgets.VBox([\n",
    "    ipywidgets.Label('-'*25+' change lane '+'-'*25),\n",
    "    ipywidgets.HBox([lane_left_widgets, lane_right_widgets])\n",
    "])\n",
    "\n",
    "#display(change_lane_widgets)"
   ]
  },
  {
   "cell_type": "markdown",
   "metadata": {},
   "source": [
    "#### **5.2 定义变道功能**\n",
    "\n",
    ">**current_lane** 设置默认当前车道"
   ]
  },
  {
   "cell_type": "code",
   "execution_count": 15,
   "metadata": {},
   "outputs": [],
   "source": [
    "current_lane = 'left'\n",
    "\n",
    "def change_left_lane(change):\n",
    "    global current_lane\n",
    "    current_lane = 'left'\n",
    "    lane_left_widgets.button_style = 'warning'\n",
    "    lane_right_widgets.button_style = 'success'\n",
    "    \n",
    "def change_right_lane(change):\n",
    "    global current_lane\n",
    "    current_lane = 'right'\n",
    "    lane_left_widgets.button_style = 'success'\n",
    "    lane_right_widgets.button_style = 'warning'\n",
    "    \n",
    "lane_left_widgets.on_click(change_left_lane)\n",
    "lane_right_widgets.on_click(change_right_lane)"
   ]
  },
  {
   "cell_type": "markdown",
   "metadata": {},
   "source": [
    "## **6. 创建控制功能**\n",
    "### **6.1 PID控制转角**"
   ]
  },
  {
   "cell_type": "code",
   "execution_count": 16,
   "metadata": {},
   "outputs": [],
   "source": [
    "class SteeringPID(traitlets.HasTraits):\n",
    "    Kp_bias = traitlets.Float()# 比例增益偏置\n",
    "    Kp_factor = traitlets.Float()# 比例增益系数\n",
    "    Ki = traitlets.Float()# 积分增益\n",
    "    Kd = traitlets.Float()# 微分增益\n",
    "    bias = traitlets.Float()# 偏置增益\n",
    "    \n",
    "    def __init__(self, max_out, min_out, windup_guard):\n",
    "        self.max_out = max_out # PID算法最大的输出 \n",
    "        self.min_out = min_out # PID算法最小的输出\n",
    "        self.integral_error = 0 # 累加误差\n",
    "        self.last_error = 0 # 上一次的误差\n",
    "        self.current_time = time.time() #当前时刻\n",
    "        self.last_time = self.current_time\n",
    "        self.setPoint = 0.0\n",
    "        self.windup_guard = windup_guard # 最大积分项最大\n",
    "        self.new_Kp = 0.0\n",
    "    \n",
    "    def calculate(self, pv):\n",
    "        '''输入误差，计算PID'''\n",
    "        error = self.setPoint - pv\n",
    "        \n",
    "        self.current_time = time.time()\n",
    "        delta_time = self.current_time - self.last_time\n",
    "        \n",
    "        self.new_Kp = (error*error)*self.Kp_factor + self.Kp_bias\n",
    "        P_out = error* self.new_Kp # 比例项\n",
    "        \n",
    "        self.integral_error += error * delta_time\n",
    "        if self.integral_error < -self.windup_guard:\n",
    "            self.integral_error = -self.windup_guard\n",
    "        elif self.integral_error > self.windup_guard:\n",
    "            self.integral_error = self.windup_guard\n",
    "        I_out = self.Ki * self.integral_error # 积分项\n",
    "        \n",
    "        derivative = (error - self.last_error) / delta_time # 微分项\n",
    "        D_out = self.Kd * derivative\n",
    "        \n",
    "        PID_out = P_out + I_out + D_out + self.bias # 计算最终PID输出\n",
    "        \n",
    "        # 判断上下边界\n",
    "        if PID_out > self.max_out:\n",
    "            PID_out = self.max_out\n",
    "        elif PID_out < self.min_out:\n",
    "            PID_out = self.min_out\n",
    "            \n",
    "        self.last_error = error #保存当前损失，供下次计算\n",
    "        self.last_time = self.current_time # 保存上一次时间戳\n",
    "        \n",
    "        return PID_out\n",
    "    \n",
    "    def reset(self):\n",
    "        self.integral_error = 0\n",
    "        self.last_error = 0\n",
    "        self.current_time = time.time() #当前时刻\n",
    "        self.last_time = self.current_time\n",
    "        self.setPoint = 0.0\n",
    "        return 'success reset'\n",
    "    def get_value(self):\n",
    "        return self.new_Kp, self.Ki, self.Kd\n",
    "      \n",
    "'''实例化PID控制器，并设置最大转角'''\n",
    "steering_controller = SteeringPID(0.9, -0.9, 0.8)"
   ]
  },
  {
   "cell_type": "markdown",
   "metadata": {},
   "source": [
    "### **6.2 创建交互控件进行PID控制**\n",
    "``steering_kp_slider`` 设置转向kP（比例参数），该参数与``error``成线性关系，当产生误差且误差改变时，该值越大表示越快到达目标位置（越快减小误差），但是设置太大，容易造成在目标位置附近震荡\n",
    "\n",
    "``steering_kd_slider`` 设置转向kD（微分参数），该参数能够对到达目标位置（减小误差）的速度（对error做微分，得到的是速度）做出响应。该值能够对P算法产生的结果进行缓冲（减小震荡）\n",
    "\n",
    "``steering_bias_slider`` 设置偏置项， 如果运行中，总是过于偏向某一边，则应该修改该参数，使Jetracer沿着中心线移动"
   ]
  },
  {
   "cell_type": "code",
   "execution_count": 17,
   "metadata": {},
   "outputs": [],
   "source": [
    "import time\n",
    "\n",
    "steering_Kp_bias_slider = ipywidgets.FloatSlider(min=0.0, max=1.0, step=0.01, value=0.32) # 比例增益_偏置项\n",
    "steering_Kp_factor_slider = ipywidgets.FloatSlider(min=0.0, max=2.0, step=0.1, value=1.10) # 比例增益_系数\n",
    "steering_Ki_slider = ipywidgets.FloatSlider(min=-1.0, max=1.0, step=0.01, value=0) # 积分增益\n",
    "steering_Kd_slider = ipywidgets.FloatSlider(min=-0.6, max=0.6, step=0.01, value=0.02) # 微分增益\n",
    "steering_bias_slider = ipywidgets.FloatSlider(min=-0.3, max=0.3, step=0.01, value=0.00) # 偏置增益\n",
    "pid_reset_button = ipywidgets.Button(description='PID RESET',button_style='warning')\n",
    "\n",
    "def pid_reset(change):\n",
    "    global steering_controller\n",
    "    steering_controller.reset()\n",
    "\n",
    "\n",
    "steering_control_widgets = ipywidgets.VBox([\n",
    "    ipywidgets.Label('-'*38+' 转角PID控制参数 '+'-'*38),\n",
    "    ipywidgets.HBox([\n",
    "        ipywidgets.VBox([\n",
    "            ipywidgets.Label('Kp(比例增益-偏置项)'),ipywidgets.Label('Kp(比例增益-系数)'),\n",
    "            ipywidgets.Label('Ki(积分增益)'),\n",
    "            ipywidgets.Label('Kd(微分增益)/10'),ipywidgets.Label('bias(偏置增益)'),\n",
    "        ]),\n",
    "        ipywidgets.VBox([\n",
    "            steering_Kp_bias_slider, steering_Kp_factor_slider,\n",
    "            steering_Ki_slider, steering_Kd_slider, \n",
    "            steering_bias_slider\n",
    "        ])\n",
    "    ]),\n",
    "    pid_reset_button\n",
    "])\n",
    "\n",
    "\n",
    "time.sleep(1)\n",
    "traitlets.dlink((steering_Kp_bias_slider, 'value'), (steering_controller, 'Kp_bias'), transform=lambda x: x)\n",
    "traitlets.dlink((steering_Kp_factor_slider, 'value'), (steering_controller, 'Kp_factor'), transform=lambda x: x)\n",
    "traitlets.dlink((steering_Ki_slider, 'value'), (steering_controller, 'Ki'), transform=lambda x: x)\n",
    "traitlets.dlink((steering_Kd_slider, 'value'), (steering_controller, 'Kd'), transform=lambda x: x/10)\n",
    "traitlets.dlink((steering_bias_slider, 'value'), (steering_controller, 'bias'), transform=lambda x: x)\n",
    "pid_reset_button.on_click(pid_reset)"
   ]
  },
  {
   "cell_type": "markdown",
   "metadata": {},
   "source": [
    "### **6.3 判断直线及弯道**"
   ]
  },
  {
   "cell_type": "code",
   "execution_count": 18,
   "metadata": {},
   "outputs": [],
   "source": [
    "class SpeedControl(traitlets.HasTraits):\n",
    "    straight_throttle = traitlets.Float()\n",
    "    curve_throttle = traitlets.Float()\n",
    "    angle_threshold = traitlets.Float()\n",
    "    min_tracking_number = traitlets.Int()\n",
    "    \n",
    "    def __init__(self, max_out, min_out):\n",
    "        self.errors = []\n",
    "        self.curve_straight = 'curve'\n",
    "        self.out = 0.0\n",
    "        self.max_out = max_out\n",
    "        self.min_out = min_out\n",
    "    def calculate(self, angle):\n",
    "        self.errors.append(angle) \n",
    "        #默认为低速模式\n",
    "        self.curve_straight = 'curve'\n",
    "        self.out = self.curve_throttle\n",
    "        #如果最近三次记录的误差值都在直道阈值内，则说明可以加速\n",
    "        if len(self.errors) > self.min_tracking_number:\n",
    "            del(self.errors[0])\n",
    "            #满足判断要求\n",
    "            if all(_ > -self.angle_threshold for _ in self.errors) and all(_ < self.angle_threshold for _ in self.errors):\n",
    "                self.curve_straight = 'straight'\n",
    "                self.out = self.straight_throttle\n",
    "        \n",
    "        if self.out > self.max_out:\n",
    "            self.out = self.max_out\n",
    "        elif self.out < self.min_out:\n",
    "            self.out = self.min_out\n",
    "        return self.out, self.curve_straight\n",
    "    \n",
    "    def reset(self):\n",
    "        del(self.errors[:])\n",
    "    def get_value(self):\n",
    "        return self.straight_throttle, self.curve_throttle\n",
    "    def get_threshold(self):\n",
    "        return self.angle_threshold\n",
    "\n",
    "throttle_controller = SpeedControl(0.25, 0.1)"
   ]
  },
  {
   "cell_type": "markdown",
   "metadata": {},
   "source": [
    "### **6.4 创建速度控制器的交互控件**"
   ]
  },
  {
   "cell_type": "code",
   "execution_count": null,
   "metadata": {},
   "outputs": [],
   "source": [
    "straight_throttle_sliber = ipywidgets.FloatSlider(min=0.10, max=0.25, step=0.01, value=0.18)\n",
    "curve_throttle_sliber = ipywidgets.FloatSlider(min=0.10, max=0.25, step=0.01, value=0.14)\n",
    "angle_threshold_sliber = ipywidgets.FloatSlider(min=0.01, max=0.9, step=0.02, value=0.1)\n",
    "min_tracking_number_sliber = ipywidgets.IntSlider(min=0, max=50, step=1, value=10)\n",
    "\n",
    "traitlets.dlink((straight_throttle_sliber, 'value'), (throttle_controller, 'straight_throttle'), transform=lambda x: x)\n",
    "traitlets.dlink((curve_throttle_sliber, 'value'), (throttle_controller, 'curve_throttle'), transform=lambda x: x)\n",
    "traitlets.dlink((angle_threshold_sliber, 'value'), (throttle_controller, 'angle_threshold'), transform=lambda x: x)\n",
    "traitlets.dlink((min_tracking_number_sliber, 'value'), (throttle_controller, 'min_tracking_number'), transform=lambda x: x)\n",
    "\n",
    "throttle_control_widgets = ipywidgets.VBox([\n",
    "    ipywidgets.Label('-'*30+' 纵轴油门控制参数 '+'-'*30),\n",
    "    ipywidgets.HBox([\n",
    "        ipywidgets.VBox([\n",
    "            ipywidgets.Label('直道最高速度'),ipywidgets.Label('弯道最高速度'),\n",
    "            ipywidgets.Label('判断直道/弯道阈值'),ipywidgets.Label('最小稳定跟踪次数')\n",
    "        ]),\n",
    "        ipywidgets.VBox([\n",
    "            straight_throttle_sliber, curve_throttle_sliber, angle_threshold_sliber, min_tracking_number_sliber\n",
    "        ])\n",
    "    ])\n",
    "])"
   ]
  },
  {
   "cell_type": "markdown",
   "metadata": {},
   "source": [
    "## **7. 可视化预测结果和运行状态**"
   ]
  },
  {
   "cell_type": "markdown",
   "metadata": {},
   "source": [
    "#### **7.1 定义交互控件显示预测结果及运行状态**\n",
    "\n",
    "``live_widget`` 显示图片数据\n",
    "\n",
    "``live_steering_slider`` 显示 JetRacer 当前的转角 [-1, 1]\n",
    "\n",
    "``live_throttle_slider`` 显示 JetRacer 当前的前进方向 [-1, 1]\n",
    "\n",
    "> 仅仅展示数值，手动修改并不会影响程序中相关变量的值 \n",
    "\n"
   ]
  },
  {
   "cell_type": "code",
   "execution_count": 21,
   "metadata": {},
   "outputs": [],
   "source": [
    "live_image_widget = ipywidgets.Image(format='jpeg', width=display_width, height=display_height)\n",
    "\n",
    "live_steering_slider = ipywidgets.FloatSlider(min=-1.0, max=1.0)\n",
    "live_throttle_slider = ipywidgets.FloatSlider(min=0, max=1.0)\n",
    "\n",
    "prediction_text = ipywidgets.Textarea()\n",
    "\n",
    "live_widget = ipywidgets.VBox([\n",
    "    ipywidgets.Label('-'*65+'  LIVE  '+'-'*65),\n",
    "    ipywidgets.HBox([\n",
    "        live_image_widget,\n",
    "        ipywidgets.VBox([\n",
    "            prediction_text,\n",
    "            ipywidgets.HBox([\n",
    "                ipywidgets.VBox([\n",
    "                    ipywidgets.Label('live_steering'), ipywidgets.Label('live_throttle')\n",
    "                ]),\n",
    "                ipywidgets.VBox([\n",
    "                    live_steering_slider,live_throttle_slider\n",
    "                ])\n",
    "            ])\n",
    "        ])\n",
    "    ])\n",
    "    \n",
    "])"
   ]
  },
  {
   "cell_type": "markdown",
   "metadata": {},
   "source": [
    "#### **7.2 创建角度阈值画图函数**"
   ]
  },
  {
   "cell_type": "code",
   "execution_count": null,
   "metadata": {},
   "outputs": [],
   "source": [
    "def draw_angle_threshold(image, threshold):\n",
    "    h, w = image.shape[:2]\n",
    "    origin_point = (int(w/2), h-1)\n",
    "    if threshold < np.arctan2(w/2, h) and threshold > np.arctan2(-w/2, h):\n",
    "        left_point = (int(w/2 + h*np.tan(-1*threshold)), 0)\n",
    "        right_point = (int(w/2 + h * np.tan(threshold)), 0)\n",
    "        image = cv2.line(image, origin_point, left_point, (0, 0, 255), 2)\n",
    "        image = cv2.line(image, origin_point, right_point, (0, 0, 255), 2)\n",
    "    else:\n",
    "        left_point = (0, int(h + w / 2 / np.tan(-1*threshold)))\n",
    "        right_point = (w-1, int(h - w / 2 / np.tan(threshold)))\n",
    "        image = cv2.line(image, origin_point, left_point, (0, 255, 0), 2)\n",
    "        image = cv2.line(image, right_point, origin_point, (0, 255, 0), 2)\n",
    "    return image"
   ]
  },
  {
   "cell_type": "markdown",
   "metadata": {},
   "source": [
    "#### **7.3 定义画图功能函数**"
   ]
  },
  {
   "cell_type": "code",
   "execution_count": 22,
   "metadata": {},
   "outputs": [],
   "source": [
    "def drawing(image, targets, fps, angle_threshold):\n",
    "    h, w = image.shape[:2]\n",
    "    # 画辅助线\n",
    "    image = cv2.line(image, (int(w/2), 0), (int(w/2), h-1), (20, 150, 20),2)\n",
    "    image = cv2.line(image, (0, int(h/2)), (w-1, int(h/2)), (20, 150, 20),2)\n",
    "    # 画弯道阈值线\n",
    "    image = draw_angle_threshold(image, angle_threshold)\n",
    "    # 画目标点\n",
    "    for target in targets:\n",
    "        x, y, color = target\n",
    "        circle_x = int(w * (x + 1.0)/2.0)\n",
    "        circle_y = int(h * (y + 1.0)/2.0)\n",
    "        image = cv2.circle(image, (circle_x, circle_y), 6, color, 2)\n",
    "    # 显示文字信息\n",
    "    #for index, text in enumerate(texts):\n",
    "    image = cv2.putText(image, fps, (10,20), cv2.FONT_HERSHEY_SIMPLEX, 0.5, (255, 255, 255), 1)\n",
    "    \n",
    "    return image"
   ]
  },
  {
   "cell_type": "markdown",
   "metadata": {},
   "source": [
    "## **8. 创建 “处理” 函数**"
   ]
  },
  {
   "cell_type": "markdown",
   "metadata": {},
   "source": [
    "#### **8.1 定义处理函数**\n",
    "\n",
    "1. 预处理相机图像\n",
    "2. 执行神经网络\n",
    "3. 计算近似转向值\n",
    "4. 使用比例/微分控制（PD）控制电机"
   ]
  },
  {
   "cell_type": "code",
   "execution_count": 23,
   "metadata": {},
   "outputs": [],
   "source": [
    "steering_controller.reset() # 转角控制器初始化\n",
    "throttle_controller.reset() # 速度控制器初始化\n",
    "\n",
    "def execute(change):\n",
    "    global Steering_controller, current_lane\n",
    "    first_time = time.time()\n",
    "    image = change['new']\n",
    "    \n",
    "    '''原图校准'''\n",
    "    #image = correctImage(image,coefficient_group)\n",
    "    t1 = time.time()\n",
    "\n",
    "    '''resize'''\n",
    "    image = cv2.resize(image, (224, 224))\n",
    "    t2 = time.time()\n",
    "    \n",
    "    '''模型预测'''\n",
    "    xy = model(preprocess(image)).detach().float().cpu().numpy().flatten()\n",
    "    t3 = time.time()\n",
    "    \n",
    "    '''获取坐标'''\n",
    "    x_1, y_1 = xy[0], xy[1]\n",
    "    x_2, y_2 = xy[2], xy[3]\n",
    "    transform_y_1 = y_1/2.0 + 0.5 #映射到[0: 1]\n",
    "    transform_y_2 = y_2/2.0 + 0.5 \n",
    "    \n",
    "    '''计算转角值'''\n",
    "    #arctan2得到的是目标点与纵向中轴线的夹角的角度。\n",
    "    if current_lane == 'left':\n",
    "        #angle = np.arctan2(x_1, transform_y_1)\n",
    "        deviation = x_1\n",
    "    elif current_lane == 'right':\n",
    "        #angle = np.arctan2(x_2, transform_y_2)\n",
    "        deviation = x_2\n",
    "    pred_steering = -1 * steering_controller.calculate(deviation)\n",
    "    \n",
    "    end_time = time.time()\n",
    "    \n",
    "    '''根据道路类型，计算油门值'''\n",
    "    if current_lane == 'left':\n",
    "        transform_y = y_1 + 1.0\n",
    "        angle = np.arctan2(x_1, transform_y)\n",
    "    elif current_lane == 'right':\n",
    "        transform_y = y_2 + 1.0\n",
    "        angle = np.arctan2(x_2, transform_y)\n",
    "    #返回油门值及道路类型\n",
    "    pred_throttle, curve_straight = throttle_controller.calculate(angle)\n",
    "        \n",
    "    '''进行控制输出'''\n",
    "    car.steering = pred_steering\n",
    "    car.throttle = pred_throttle * throttle_switch.value\n",
    "    \n",
    "    end_time = time.time()\n",
    "    \n",
    "    '''可视化检测结果，及运行状态'''\n",
    "    # 图里画出目标点及帧率\n",
    "    targets = [\n",
    "        [x_1, y_1, (0, 0, 255) if current_lane == 'left' else (0, 255, 0)],\n",
    "        [x_2, y_2,(0, 0, 255) if current_lane == 'right' else (0, 255, 0)]\n",
    "    ]\n",
    "    image = drawing(image, targets, 'FPS: %.2f'%(1/(end_time-first_time)), throttle_controller.get_threshold())\n",
    "    \n",
    "    #文本框显示信息\n",
    "    \n",
    "    texts = [\n",
    "        'FPS: %.2f'%(1/(end_time-first_time)), # 显示FPS\n",
    "        'target_1: (%.2f, %.2f) %s'%(x_1, y_1, 'follow' if current_lane == 'left' else ''), # 显示预测的第一个目标坐标\n",
    "        'target_2: (%.2f, %.2f) %s'%(x_2, y_2, 'follow' if current_lane == 'right' else ''), # 显示预测的第二个目标坐标\n",
    "        'steering: Kp:%.3f Ki:%.3f Kd:%.3f'%(steering_controller.get_value()),\n",
    "        'throttle: max: %.2f min: %.2f'%(throttle_controller.get_value()),\n",
    "        'pred_steering: %.2f'%(pred_steering), \n",
    "        'pred_throttle: %.2f'%(pred_throttle), \n",
    "        'state: %s %s'%(curve_straight, 'Speed up'if curve_straight == 'straight' else 'slow down')\n",
    "    ]\n",
    "    new_text = ''\n",
    "    for text in texts:\n",
    "        new_text += text\n",
    "        new_text += '\\n'\n",
    "    prediction_text.value = new_text\n",
    "    #滑动条显示结果\n",
    "    live_steering_slider.value = pred_steering\n",
    "    #live_throttle_slider.value = pred_throttle\n",
    "    \n",
    "    live_image_widget.value = bgr8_to_jpeg(image)\n",
    "    \n",
    "#camera.observe(execute, names='value')\n",
    "execute({'new': camera.value}) #试跑一遍"
   ]
  },
  {
   "cell_type": "markdown",
   "metadata": {},
   "source": [
    "#### **8.2 定义开始按钮**"
   ]
  },
  {
   "cell_type": "code",
   "execution_count": 24,
   "metadata": {},
   "outputs": [],
   "source": [
    "start_button = ipywidgets.Button(description='START',button_style='danger', layout=ipywidgets.Layout(width='300px', height='28px'))\n",
    "start_widget = ipywidgets.VBox([\n",
    "    ipywidgets.Label('-'*50+' START RUN '+'-'*50),\n",
    "    start_button\n",
    "])\n",
    "\n",
    "def start_execute(change):\n",
    "    global steering_controller, steering_controller\n",
    "    if start_button.description == 'START':\n",
    "        steering_controller.reset() # 转角控制器初始化\n",
    "        throttle_controller.reset() # 速度控制器初始化\n",
    "        camera.observe(execute, names='value')\n",
    "        start_button.description = 'STOP'\n",
    "        start_button.button_style='warning'\n",
    "    else:\n",
    "        camera.unobserve(execute, names='value')\n",
    "        start_button.description = 'START'\n",
    "        start_button.button_style='danger'\n",
    "        \n",
    "start_button.on_click(start_execute)"
   ]
  },
  {
   "cell_type": "markdown",
   "metadata": {},
   "source": [
    "## **9. 可视化检测结果及显示参数调教模块**\n",
    "在该部分，可进行控制参数调教，及检验模型预测效果"
   ]
  },
  {
   "cell_type": "markdown",
   "metadata": {},
   "source": [
    "| 部件 | 功能 |\n",
    "|--------|-------------|\n",
    "| 油门 | 实际控制JetRacer 纵轴运动 |\n",
    "| 转角 | 实际控制JetRacer 横轴运动 |\n",
    "| SAFE | JetRacer 归位（急停）|\n",
    "| Kp(比例增益) | 控制PID 比例增益 |\n",
    "| Ki(积分增益) | 控制PID 积分增益 |\n",
    "| Kd(微分增益) | 控制PID 微分增益 |\n",
    "| bias(偏置增益) | 控制PID 偏置增益 |\n",
    "| live_steering | 显示此时的转角 |\n",
    "| live_throttle | 显示此时的油门 |\n",
    "| LEFT/RIGHT | 控制左右变道 |\n",
    "| START | 开始运动开关 |"
   ]
  },
  {
   "cell_type": "code",
   "execution_count": 25,
   "metadata": {},
   "outputs": [
    {
     "data": {
      "application/vnd.jupyter.widget-view+json": {
       "model_id": "1fe485490ef5452da55fe618edc403da",
       "version_major": 2,
       "version_minor": 0
      },
      "text/plain": [
       "VBox(children=(HBox(children=(VBox(children=(VBox(children=(Label(value='------------------------ JetRacer 控制 …"
      ]
     },
     "metadata": {},
     "output_type": "display_data"
    }
   ],
   "source": [
    "display(\n",
    "    ipywidgets.VBox([\n",
    "        ipywidgets.HBox([\n",
    "            ipywidgets.VBox([jetracer_control_widgets,throttle_control_widgets]),\n",
    "            steering_control_widgets\n",
    "        ]),\n",
    "        live_widget,\n",
    "        change_lane_widgets,\n",
    "        start_widget\n",
    "    ]) \n",
    ")"
   ]
  },
  {
   "cell_type": "markdown",
   "metadata": {},
   "source": [
    "## **10. 释放Camera及JetRacer实例**"
   ]
  },
  {
   "cell_type": "code",
   "execution_count": 60,
   "metadata": {},
   "outputs": [],
   "source": [
    "#car.stop()\n",
    "camera.stop()"
   ]
  }
 ],
 "metadata": {
  "kernelspec": {
   "display_name": "Python 3",
   "language": "python",
   "name": "python3"
  },
  "language_info": {
   "codemirror_mode": {
    "name": "ipython",
    "version": 3
   },
   "file_extension": ".py",
   "mimetype": "text/x-python",
   "name": "python",
   "nbconvert_exporter": "python",
   "pygments_lexer": "ipython3",
   "version": "3.8.5"
  }
 },
 "nbformat": 4,
 "nbformat_minor": 4
}
