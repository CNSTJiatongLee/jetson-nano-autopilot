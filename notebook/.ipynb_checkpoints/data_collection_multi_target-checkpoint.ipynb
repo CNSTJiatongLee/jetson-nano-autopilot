{
 "cells": [
  {
   "cell_type": "markdown",
   "metadata": {},
   "source": [
    "# **道路跟随 - 采集数据（多目标）**\n",
    "使用 ``regression`` 预测出前进的目标地点，实现巡线\n",
    "\n",
    "1. 将JetRacer放置在路径上的不同位置（偏离中心，不同角度等）\n",
    "2. 显示来自机器人的实时摄像头\n",
    "3. 使用游戏手柄控制器，在图像上放置一个“绿点”，该绿点对应于我们希望机器人行进的目标方向。\n",
    "4. 存储该绿点的X，Y值以及机器人摄像机的图像（**x, y值为target在图像上以左上角为原点的相对位置**）\n",
    "\n",
    "然后，在训练笔记本中，我们将训练神经网络来预测标签的X，Y值。 在现场演示中，我们将使用预测的X，Y值以计算近似的转向值。\n",
    "\n",
    ">数据采集建议：\n",
    ">1. 想象一下机器人应遵循的路径，按照预设较好的路线进行数据采集。\n",
    ">2. 直道时，可将目标点设置的相对远一些。\n",
    ">3. 直道转弯道时，时刻观察JetRacer所处位置和摄像头采集视频，准确估计入弯时机\n",
    ">4. 在弯道时，每移动一小步就进行小距离的标点。"
   ]
  },
  {
   "cell_type": "markdown",
   "metadata": {},
   "source": [
    "### **导入依赖**"
   ]
  },
  {
   "cell_type": "code",
   "execution_count": 2,
   "metadata": {},
   "outputs": [],
   "source": [
    "#Add search path\n",
    "import sys\n",
    "sys.path.append('../')\n",
    "# IPython Libraries for display and widgets\n",
    "import ipywidgets\n",
    "import traitlets\n",
    "import ipywidgets.widgets as widgets\n",
    "from jupyter_clickable_image_widget import ClickableImageWidget\n",
    "from IPython.display import display\n",
    "\n",
    "\n",
    "# Python basic pakcages for image annotation\n",
    "from uuid import uuid1 #命名唯一ID\n",
    "import os\n",
    "import json\n",
    "import glob\n",
    "import datetime\n",
    "import numpy as np\n",
    "import cv2\n",
    "import time\n",
    "\n",
    "# Camera for Jetracer\n",
    "from camera import Camera, bgr8_to_jpeg"
   ]
  },
  {
   "cell_type": "markdown",
   "metadata": {},
   "source": [
    "### **开启摄像头**"
   ]
  },
  {
   "cell_type": "code",
   "execution_count": 6,
   "metadata": {},
   "outputs": [],
   "source": [
    "image_width = 224#\n",
    "image_height = 224#\n",
    "display_width = 224\n",
    "display_height = 224\n",
    "camera_fps = 30"
   ]
  },
  {
   "cell_type": "code",
   "execution_count": 7,
   "metadata": {},
   "outputs": [],
   "source": [
    "camera = Camera(width=image_width, height=image_height, fps=camera_fps)#启动摄像头"
   ]
  },
  {
   "cell_type": "markdown",
   "metadata": {},
   "source": [
    "### **定义目标采集器**\n",
    "定义采集器类"
   ]
  },
  {
   "cell_type": "code",
   "execution_count": 11,
   "metadata": {},
   "outputs": [],
   "source": [
    "class CreateTargetWidget():\n",
    "    def __init__(self, camera, display_width, display_height, name):\n",
    "        #定义变量\n",
    "        self.camera = camera\n",
    "        self.width = display_width\n",
    "        self.height = display_height\n",
    "        self.name = name\n",
    "        #定义控件\n",
    "        self.target_widget = ClickableImageWidget(width=self.width, height=self.height)\n",
    "        self.x_slider = widgets.FloatSlider(min=-1.0, max=1.0, step=0.001, value=0.0)\n",
    "        self.y_slider = widgets.FloatSlider(min=-1.0, max=1.0, step=0.001, value=0.0)\n",
    "        time.sleep(1)\n",
    "        #设置链接\n",
    "        traitlets.dlink((self.camera, 'value'), (self.target_widget, 'value'), transform=self.display_xy)\n",
    "        self.target_widget.on_msg(self.change_xy)\n",
    "        #显示\n",
    "        #display(self.target_widget, self.x_slider, self.y_slider)\n",
    "        \n",
    "        \n",
    "    def display_xy(self, camera_image):\n",
    "        #数据获取\n",
    "        image = np.copy(camera_image)\n",
    "        image = cv2.resize(image, (self.width, self.height))\n",
    "        #画出辅助线\n",
    "        image = cv2.line(image, (int(self.width/2), 0), (int(self.width/2), self.height-1), (200, 200, 200),2)\n",
    "        image = cv2.line(image, (0, int(self.height/2)), (self.width-1, int(self.height/2)), (200, 200, 200),2)\n",
    "        #画出摄像头中心，目标中心，两点连线\n",
    "        x = self.x_slider.value\n",
    "        y = self.y_slider.value\n",
    "        x = int((x+1) * self.width / 2)#使（0，0）处于图像正中间\n",
    "        y = int((y+1) * self.height / 2)\n",
    "        image = cv2.circle(image, (x, y), 8, (0, 255, 0), 3)\n",
    "        image = cv2.circle(image, (int(self.width/2), self.height-1), 8, (0, 0,255), 3)\n",
    "        image = cv2.line(image, (x,y), (int(self.width/2), self.height-1), (255,0,0), 3)\n",
    "        jpeg_image = bgr8_to_jpeg(image)\n",
    "        return jpeg_image\n",
    "    \n",
    "    def change_xy(self, _, content, msg):\n",
    "        if content['event'] == 'click':\n",
    "            data = content['eventData']\n",
    "            x = round(data['offsetX']/(self.width/2) - 1, 2)\n",
    "            #y = round((data['offsetY'] - 112)*2/224, 2)\n",
    "            y = round(data['offsetY']/(self.height/2) - 1, 2)\n",
    "            #text.value += 'offset: (%d, %d) slider: (%.2f, %.2f)'%(data['offsetX'],data['offsetY'], x, y)\n",
    "            #text.value += '(%d, %d)\\n'%(data['offsetX'],data['offsetY'])\n",
    "            self.x_slider.value = x\n",
    "            self.y_slider.value = y\n",
    "    def display(self):\n",
    "        return ipywidgets.VBox([\n",
    "            ipywidgets.Label('-'*20+self.name+'-'*20),\n",
    "            self.target_widget, \n",
    "            self.x_slider, \n",
    "            self.y_slider\n",
    "        ])\n",
    "    \n",
    "    def value(self):\n",
    "        return [self.x_slider.value, self.y_slider.value]\n",
    "           "
   ]
  },
  {
   "cell_type": "markdown",
   "metadata": {},
   "source": [
    "实例化目标采集器\n",
    "\n",
    ">可通过修改``target_names``生成多个目标采集器"
   ]
  },
  {
   "cell_type": "code",
   "execution_count": 12,
   "metadata": {},
   "outputs": [],
   "source": [
    "target_names = ['main(left)', 'secondary(right)']\n",
    "\n",
    "target_widgets = []\n",
    "for name in target_names:\n",
    "    target_widgets.append(CreateTargetWidget(camera, display_width, display_height, name))"
   ]
  },
  {
   "cell_type": "markdown",
   "metadata": {},
   "source": [
    "显示可交互控件"
   ]
  },
  {
   "cell_type": "code",
   "execution_count": 13,
   "metadata": {},
   "outputs": [
    {
     "data": {
      "application/vnd.jupyter.widget-view+json": {
       "model_id": "2114c6115c3849b6883fd5ad8edc0668",
       "version_major": 2,
       "version_minor": 0
      },
      "text/plain": [
       "HBox(children=(VBox(children=(Label(value='--------------------main(left)--------------------'), ClickableImag…"
      ]
     },
     "metadata": {},
     "output_type": "display_data"
    }
   ],
   "source": [
    "display(ipywidgets.HBox([\n",
    "    target_widgets[0].display(),\n",
    "    target_widgets[1].display()\n",
    "]))"
   ]
  },
  {
   "cell_type": "markdown",
   "metadata": {},
   "source": [
    "### **保存数据**\n",
    "定义保存功能按钮``save_widget``及计数按钮``count_widget``\n",
    "\n",
    ">可通过修改``DATASET_DIR``修改数据保存地址"
   ]
  },
  {
   "cell_type": "code",
   "execution_count": 16,
   "metadata": {},
   "outputs": [
    {
     "name": "stdout",
     "output_type": "stream",
     "text": [
      "Directories not created becasue they already exist\n"
     ]
    }
   ],
   "source": [
    "DATASET_DIR = 'data/dataset_xy_1'\n",
    "\n",
    "# 创建数据集文件夹\n",
    "try:\n",
    "    os.makedirs(DATASET_DIR)\n",
    "except FileExistsError:\n",
    "    print('Directories not created becasue they already exist')\n",
    "\n",
    "# 创建数据集计数控件\n",
    "count_widget = widgets.IntText(description='count', value=len(glob.glob(os.path.join(DATASET_DIR, '*.jpg'))))\n",
    "# 创建保存按钮\n",
    "save_widget = widgets.Button(description='SAVE',button_style='warning')\n",
    "\n",
    "def xy_uuid(target_widgets):\n",
    "    save_name = 'xy_'\n",
    "    for target in target_widgets:\n",
    "        data = target.value()\n",
    "        save_name +='%03d_%03d_'%(data[0] * 50 + 50, data[1] * 50 + 50)\n",
    "    save_name += '%s'%(uuid1())\n",
    "    #return 'xy_%03d_%03d_%s' % (x * 50 + 50, y * 50 + 50, uuid1())\n",
    "    return save_name\n",
    "\n",
    "#将图片保存在本地，同时转换为数据集命名格式\n",
    "def save_snapshot():\n",
    "    uuid = xy_uuid(target_widgets)\n",
    "    image_path = os.path.join(DATASET_DIR, uuid + '.jpg')\n",
    "    with open(image_path, 'wb') as f:\n",
    "        image = np.copy(camera.value)\n",
    "        #image = correctImage(image, coefficient_group)\n",
    "        #image = cv2.resize(image, (save_width, save_height))\n",
    "        image = bgr8_to_jpeg(image)\n",
    "        f.write(image)\n",
    "    count_widget.value = len(glob.glob(os.path.join(DATASET_DIR, '*.jpg')))\n",
    "\n",
    "def widget_save(change):\n",
    "    save_snapshot()\n",
    "\n",
    "#将保存按钮与保存功能关联\n",
    "save_widget.on_click(widget_save)"
   ]
  },
  {
   "cell_type": "markdown",
   "metadata": {},
   "source": [
    "### **JetRacer 运动采集（可选项）**\n",
    "使用触控/手柄控制 **Jetracer** 行动的同时，进行数据采集\n",
    ">默认通过手动不断摆放 Jetracer 到不同的位置采集数据"
   ]
  },
  {
   "cell_type": "code",
   "execution_count": 23,
   "metadata": {},
   "outputs": [],
   "source": [
    "from jetracer.nvidia_racecar import NvidiaRacecar\n",
    "\n",
    "car = NvidiaRacecar() #实例化Jetracer对象"
   ]
  },
  {
   "cell_type": "code",
   "execution_count": 33,
   "metadata": {},
   "outputs": [],
   "source": [
    "car.throttle_gain = 0.15 #限制Jetracer最高速度为0.2\n",
    "car.steering_offset= -0.037  #设置前轮默认偏移量\n",
    "#car.steering_gain=-0.8"
   ]
  },
  {
   "cell_type": "markdown",
   "metadata": {},
   "source": [
    "### 添加手柄控制"
   ]
  },
  {
   "cell_type": "code",
   "execution_count": 10,
   "metadata": {},
   "outputs": [
    {
     "data": {
      "application/vnd.jupyter.widget-view+json": {
       "model_id": "de0b26146f9b447095925c5631635e1c",
       "version_major": 2,
       "version_minor": 0
      },
      "text/plain": [
       "Controller()"
      ]
     },
     "metadata": {},
     "output_type": "display_data"
    }
   ],
   "source": [
    "controller = widgets.Controller(index=0)\n",
    "display(controller)"
   ]
  },
  {
   "cell_type": "code",
   "execution_count": 11,
   "metadata": {},
   "outputs": [],
   "source": [
    "left_link = traitlets.dlink((controller.axes[0], 'value'), (car, 'steering'), transform=lambda x: x)\n",
    "right_link = traitlets.dlink((controller.axes[5], 'value'), (car, 'throttle'), transform=lambda x: -x)"
   ]
  },
  {
   "cell_type": "markdown",
   "metadata": {},
   "source": [
    "### 显示实时浏览摄像头及交互控件\n",
    "**运动控制：**\n",
    "\n",
    "使用左摇杆``横轴``控制 Jetracer 横向运动\n",
    "\n",
    "使用右摇杆``纵轴``控制 Jetracer 纵向运动\n",
    "\n",
    "**绿色圈控制：**\n",
    "使用``slider``控制x，y坐标或**鼠标点击显示框**\n",
    "\n",
    "**保存**\n",
    "点击``save``按钮保存<br>"
   ]
  },
  {
   "cell_type": "code",
   "execution_count": 18,
   "metadata": {},
   "outputs": [
    {
     "data": {
      "application/vnd.jupyter.widget-view+json": {
       "model_id": "34da0e0945bb4c24874575a699ccc606",
       "version_major": 2,
       "version_minor": 0
      },
      "text/plain": [
       "HBox(children=(VBox(children=(Label(value='--------------------main(left)--------------------'), ClickableImag…"
      ]
     },
     "metadata": {},
     "output_type": "display_data"
    },
    {
     "data": {
      "application/vnd.jupyter.widget-view+json": {
       "model_id": "17a1b76bb2fe40c09b0a9bbb6a342748",
       "version_major": 2,
       "version_minor": 0
      },
      "text/plain": [
       "IntText(value=823, description='count')"
      ]
     },
     "metadata": {},
     "output_type": "display_data"
    },
    {
     "data": {
      "application/vnd.jupyter.widget-view+json": {
       "model_id": "31977881fed74962b1906e9283caef00",
       "version_major": 2,
       "version_minor": 0
      },
      "text/plain": [
       "Button(button_style='warning', description='SAVE', style=ButtonStyle())"
      ]
     },
     "metadata": {},
     "output_type": "display_data"
    }
   ],
   "source": [
    "display(\n",
    "    widgets.HBox([target.display() for target in target_widgets]),\n",
    "    count_widget,\n",
    "    save_widget\n",
    ")"
   ]
  },
  {
   "cell_type": "code",
   "execution_count": 15,
   "metadata": {},
   "outputs": [],
   "source": [
    "camera.stop()"
   ]
  }
 ],
 "metadata": {
  "kernelspec": {
   "display_name": "Python 3",
   "language": "python",
   "name": "python3"
  },
  "language_info": {
   "codemirror_mode": {
    "name": "ipython",
    "version": 3
   },
   "file_extension": ".py",
   "mimetype": "text/x-python",
   "name": "python",
   "nbconvert_exporter": "python",
   "pygments_lexer": "ipython3",
   "version": "3.8.5"
  }
 },
 "nbformat": 4,
 "nbformat_minor": 4
}
