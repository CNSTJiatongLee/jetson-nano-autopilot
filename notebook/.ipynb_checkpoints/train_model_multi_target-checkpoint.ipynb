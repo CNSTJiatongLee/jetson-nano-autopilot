{
 "cells": [
  {
   "cell_type": "markdown",
   "metadata": {},
   "source": [
    "# **道路跟随 - 训练模型(多目标)**\n",
    "\n",
    "在本笔记本中，我们将训练神经网络以获取输入图像，并输出与目标相对应的一组x，y值。\n",
    "\n",
    "我们将使用**PyTorc**h深度学习框架来训练**ResNet18**神经网络体系结构模型。"
   ]
  },
  {
   "cell_type": "code",
   "execution_count": 1,
   "metadata": {},
   "outputs": [],
   "source": [
    "import torch\n",
    "import torch.optim as optim\n",
    "import torch.nn.functional as F\n",
    "import torchvision\n",
    "import torchvision.datasets as datasets\n",
    "import torchvision.models as models\n",
    "import torchvision.transforms as transforms\n",
    "import glob\n",
    "import PIL.Image\n",
    "import os\n",
    "import numpy as np"
   ]
  },
  {
   "cell_type": "markdown",
   "metadata": {},
   "source": [
    "## **1. 创建数据集实例**\n",
    "自定义一个类继承``torch.utils.data.Dataset``,实现``__len__``和``__getitem__``函数方法。该类负责加载图像并从图像文件名中解析x，y值。\n",
    "\n",
    "如果Jetracer不需要遵循某些特殊约定，随机水平翻转可以扩充数据集。（**默认关闭**，而如果想遵循非对称路线，例如保持右车道行驶，必须关闭该选项）"
   ]
  },
  {
   "cell_type": "code",
   "execution_count": 2,
   "metadata": {},
   "outputs": [],
   "source": [
    "class XYDataset(torch.utils.data.Dataset):\n",
    "    \n",
    "    def __init__(self, directory, target_number=1, random_hflips=False):\n",
    "        self.directory = directory\n",
    "        self.target_number = target_number\n",
    "        self.random_hflips = random_hflips#是否翻转\n",
    "        self.image_paths = glob.glob(os.path.join(self.directory, '*.jpg'))\n",
    "        self.color_jitter = transforms.ColorJitter(0.3, 0.3, 0.3, 0.3)#修改亮度，对比度，饱和度，色调\n",
    "        \n",
    "    def get_label(self, path):\n",
    "        label = []\n",
    "        for i in range(self.target_number):\n",
    "            offset = 8*i+3\n",
    "            target_x = (float(int(path[offset: offset+3]))- 50.0) / 50.0\n",
    "            target_y = (float(int(path[offset+4 : offset+7])) - 50.0) / 50.0\n",
    "            label.append(target_x)\n",
    "            label.append(target_y)\n",
    "            #target_x = float(int(path[3:6])（11：14）(19:22)\n",
    "            #target_y = float(int(path[7:10]))(15, 18)(23:26)\n",
    "        return torch.tensor(label).float()\n",
    "            \n",
    "    \n",
    "    def __len__(self):\n",
    "        return len(self.image_paths)\n",
    "    \n",
    "    def __getitem__(self, idx):\n",
    "        image_path = self.image_paths[idx]\n",
    "        #读取图片\n",
    "        image = PIL.Image.open(image_path)\n",
    "        #获取标签\n",
    "        label = self.get_label(os.path.basename(image_path))\n",
    "        #x = float(get_x(os.path.basename(image_path)))\n",
    "        #y = float(get_y(os.path.basename(image_path)))\n",
    "        '''数据增强'''\n",
    "        #随机水平翻转\n",
    "        if self.random_hflips:\n",
    "            if float(np.random.rand(1)) > 0.5:\n",
    "                image = transforms.functional.hflip(image)\n",
    "                x = -x\n",
    "        #随机变换亮度，对比度，饱和度，色调\n",
    "        image = self.color_jitter(image)\n",
    "        #变换大小\n",
    "        image = transforms.functional.resize(image,(224, 224))\n",
    "        #tensor化\n",
    "        image = transforms.functional.to_tensor(image)\n",
    "        image = image.numpy()[::-1].copy()\n",
    "        image = torch.from_numpy(image)\n",
    "        #归一化\n",
    "        image = transforms.functional.normalize(image, [0.485, 0.456, 0.406], [0.229, 0.224, 0.225])\n",
    "        \n",
    "        return image, label#torch.tensor([x, y]).float()\n",
    "    "
   ]
  },
  {
   "cell_type": "code",
   "execution_count": null,
   "metadata": {},
   "outputs": [],
   "source": [
    "dataset = XYDataset('data/dataset_xy', 2, random_hflips=False)"
   ]
  },
  {
   "cell_type": "markdown",
   "metadata": {},
   "source": [
    "## **2. 划分数据集为训练集和测试集**\n",
    "读取数据集后，我们将数据集分为训练集和测试集。将训练集测试集，按90%-10%分。 测试集将用于验证我们训练的模型的准确性。"
   ]
  },
  {
   "cell_type": "code",
   "execution_count": 3,
   "metadata": {},
   "outputs": [],
   "source": [
    "test_percent = 0.3\n",
    "num_test = int(test_percent * len(dataset))\n",
    "train_dataset, test_dataset = torch.utils.data.random_split(dataset, [len(dataset) - num_test, num_test])"
   ]
  },
  {
   "cell_type": "markdown",
   "metadata": {},
   "source": [
    "## **3. 创建数据加载器以批量加载数据**\n",
    "使用``DataLoader类``来批量加载数据，该容器允许多个子流程及混洗数据。 我们使用的批处理大小为8。"
   ]
  },
  {
   "cell_type": "code",
   "execution_count": 4,
   "metadata": {},
   "outputs": [],
   "source": [
    "train_loader = torch.utils.data.DataLoader(\n",
    "    train_dataset,\n",
    "    batch_size=8,\n",
    "    shuffle=True,\n",
    "    num_workers=0\n",
    ")\n",
    "\n",
    "test_loader = torch.utils.data.DataLoader(\n",
    "    test_dataset,\n",
    "    batch_size=8,\n",
    "    shuffle=True,\n",
    "    num_workers=0\n",
    ")"
   ]
  },
  {
   "cell_type": "markdown",
   "metadata": {},
   "source": [
    "## **4. 定义神经网络**\n",
    "我们使用**PyTorch TorchVision**上的``ResNet-18``模型，并加载预训练模型进行**迁移学习**"
   ]
  },
  {
   "cell_type": "code",
   "execution_count": null,
   "metadata": {},
   "outputs": [],
   "source": [
    "target_number = 2"
   ]
  },
  {
   "cell_type": "code",
   "execution_count": 5,
   "metadata": {},
   "outputs": [],
   "source": [
    "model = models.resnet18(pretrained=True)"
   ]
  },
  {
   "cell_type": "markdown",
   "metadata": {},
   "source": [
    "ResNet模型具有512作为``in_features``的完全连接（fc）最终层，我们将进行回归训练，因此``out_features``为 **2 x target_number**\n",
    "\n",
    "最后，将模型在GPU上训练"
   ]
  },
  {
   "cell_type": "code",
   "execution_count": 6,
   "metadata": {},
   "outputs": [],
   "source": [
    "model.fc = torch.nn.Linear(512, 2*target_number)#将输出两个目标的XY\n",
    "device = torch.device('cuda')\n",
    "model = model.to(device)"
   ]
  },
  {
   "cell_type": "markdown",
   "metadata": {},
   "source": [
    "## **5. 定义训练参数**\n",
    "\n",
    "#### 5.1 定义可视化工具"
   ]
  },
  {
   "cell_type": "code",
   "execution_count": 7,
   "metadata": {},
   "outputs": [],
   "source": [
    "import ipywidgets\n",
    "'''参数部分'''\n",
    "epochs_widget = ipywidgets.IntText(description='epochs', value=50)\n",
    "model_path_widget = ipywidgets.Text(description='model path', value='model/road_following_model.pth')\n",
    "'''训练过程'''\n",
    "steps_widget = ipywidgets.IntText(description='steps', value=0)\n",
    "train_progress_widget = ipywidgets.FloatProgress(min=0.0, max=1.0, description='progress')\n",
    "train_loss_widget = ipywidgets.FloatText(description='train loss')\n",
    "eval_progress_widget = ipywidgets.FloatProgress(min=0.0, max=1.0, description='progress')\n",
    "eval_loss_widget = ipywidgets.FloatText(description='eval loss')\n",
    "save_info_widget = ipywidgets.Text(description='save info')\n",
    "train_button = ipywidgets.Button(description='START', button_style='warning',layout=ipywidgets.Layout(width='300px', height='28px'))\n",
    "\n",
    "train_eval_widget = ipywidgets.VBox([\n",
    "    ipywidgets.Label('-'*31+'参数'+'-'*31),\n",
    "    epochs_widget,\n",
    "    model_path_widget,\n",
    "    ipywidgets.Label('-'*29+'训练过程'+'-'*29),\n",
    "    steps_widget,\n",
    "    train_progress_widget,\n",
    "    train_loss_widget, \n",
    "    eval_progress_widget,\n",
    "    eval_loss_widget,\n",
    "    save_info_widget,\n",
    "    ipywidgets.Label('-'*70),\n",
    "    train_button\n",
    "])"
   ]
  },
  {
   "cell_type": "markdown",
   "metadata": {},
   "source": [
    "#### 5.2 定义训练函数"
   ]
  },
  {
   "cell_type": "code",
   "execution_count": 8,
   "metadata": {},
   "outputs": [],
   "source": [
    "def train_eval(change):\n",
    "    global model\n",
    "    NUM_EPOCHS = epochs_widget.value # 迭代次数\n",
    "    MODEL_PATH = model_path_widget.value # 保存的模型地址\n",
    "    best_loss = 1e9 # 当前的最小损失，小于该数值表示当前批次是最好的\n",
    "    BAST_MODEL_PATH = 'best_' + MODEL_PATH\n",
    "    LAST_MODEL_PATH = 'last_' + MODEL_PATH\n",
    "    \n",
    "    optimizer = optim.Adam(model.parameters())# 定义优化器\n",
    "    for epoch in range(NUM_EPOCHS):\n",
    "        steps_widget.value = epoch #更新当前批次代号\n",
    "        '''当前批次开始训练'''\n",
    "        model.train()\n",
    "        train_loss = 0.0\n",
    "        for index,(images, labels) in enumerate(iter(train_loader)):\n",
    "            images = images.to(device)\n",
    "            labels = labels.to(device)\n",
    "            optimizer.zero_grad() # 优化器梯度清零\n",
    "            outputs = model(images)\n",
    "            loss = F.mse_loss(outputs, labels)# 均方损失\n",
    "            train_loss += float(loss) # 累加损失\n",
    "            loss.backward() # 反向传播计算反向梯度\n",
    "            optimizer.step() # 优化器更新网络参数\n",
    "            train_progress_widget.value = (index+1)/len(train_loader)#更新进度条\n",
    "            train_loss_widget.value = loss #显示损失\n",
    "        train_loss /= len(train_loader) #求平均损失\n",
    "        train_loss_widget.value = train_loss #显示损失\n",
    "\n",
    "        '''当前批次开始验证'''\n",
    "        model.eval()\n",
    "        test_loss = 0.0\n",
    "        for index, (images, labels) in enumerate(iter(test_loader)):\n",
    "            images = images.to(device)\n",
    "            labels = labels.to(device)\n",
    "            outputs = model(images)\n",
    "            loss = F.mse_loss(outputs, labels)\n",
    "            test_loss += float(loss)\n",
    "            '''显示验证结果'''\n",
    "            eval_progress_widget.value = (index+1)/len(test_loader)#更新验证进度条\n",
    "            eval_loss_widget.value = loss #显示验证损失\n",
    "        test_loss /= len(test_loader)\n",
    "        eval_loss_widget.value = test_loss #显示验证损失\n",
    "\n",
    "        print('%f, %f' % (train_loss, test_loss))\n",
    "        torch.save(model.state_dict(), LAST_MODEL_PATH)\n",
    "        if test_loss < best_loss:\n",
    "            torch.save(model.state_dict(), BEST_MODEL_PATH)\n",
    "            best_loss = test_loss\n",
    "            save_info_widget.value = 'step %d (train: %.4f, eval: %.4f)'%(epoch, train_loss, test_loss)\n",
    "            "
   ]
  },
  {
   "cell_type": "code",
   "execution_count": null,
   "metadata": {},
   "outputs": [],
   "source": [
    "train_button.on_click(train_eval)"
   ]
  },
  {
   "cell_type": "markdown",
   "metadata": {},
   "source": [
    "训练完成后将保存 ``best_steering_model_xy.pth`` "
   ]
  },
  {
   "cell_type": "markdown",
   "metadata": {},
   "source": [
    "#### 5.3 开始训练"
   ]
  },
  {
   "cell_type": "code",
   "execution_count": 9,
   "metadata": {},
   "outputs": [
    {
     "data": {
      "application/vnd.jupyter.widget-view+json": {
       "model_id": "614a2079dbe74233b8a6c6167a3a3ad8",
       "version_major": 2,
       "version_minor": 0
      },
      "text/plain": [
       "VBox(children=(Label(value='-------------------------------参数-------------------------------'), IntText(value=…"
      ]
     },
     "metadata": {},
     "output_type": "display_data"
    }
   ],
   "source": [
    "display(train_eval_widget)"
   ]
  },
  {
   "cell_type": "markdown",
   "metadata": {},
   "source": [
    "---\n",
    "参数\n",
    "\n",
    "``epochs_widget`` ：设置训练迭代次数 \n",
    "\n",
    "``save_model_widget``：设置模型保存路径\n",
    "\n",
    "---\n",
    "训练过程\n",
    "\n",
    "``steps_widget``:显示当前迭代id\n",
    "\n",
    "``train_progress_widget``：显示当前批次训练部分的进度\n",
    "\n",
    "``train_loss_widget``：显示当前批次训练部分的损失\n",
    "\n",
    "``eval_progress_widget``：显示当前批次训练部分的进度\n",
    "\n",
    "``eval_loss_widget``：显示当前批次训练部分的损失\n",
    "\n",
    "``save_info_widget``：显示当前epochs的steps，总损失及是否保存\n",
    "\n",
    "---\n",
    "训练开关\n",
    "\n",
    "``train_button``"
   ]
  }
 ],
 "metadata": {
  "kernelspec": {
   "display_name": "Python 3",
   "language": "python",
   "name": "python3"
  },
  "language_info": {
   "codemirror_mode": {
    "name": "ipython",
    "version": 3
   },
   "file_extension": ".py",
   "mimetype": "text/x-python",
   "name": "python",
   "nbconvert_exporter": "python",
   "pygments_lexer": "ipython3",
   "version": "3.8.5"
  }
 },
 "nbformat": 4,
 "nbformat_minor": 4
}
